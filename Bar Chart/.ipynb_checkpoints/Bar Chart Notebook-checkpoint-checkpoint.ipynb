{
 "cells": [
  {
   "cell_type": "code",
   "execution_count": null,
   "id": "4ffb646c-3896-427e-af5d-5c4b68ffde4e",
   "metadata": {},
   "outputs": [],
   "source": []
  }
 ],
 "metadata": {
  "kernelspec": {
   "display_name": "Python 3 (ipykernel)",
   "language": "python",
   "name": "python3"
  },
  "language_info": {
   "name": ""
  }
 },
 "nbformat": 4,
 "nbformat_minor": 5
}
